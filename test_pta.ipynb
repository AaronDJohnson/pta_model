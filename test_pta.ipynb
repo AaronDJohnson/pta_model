{
 "cells": [
  {
   "cell_type": "code",
   "execution_count": 1,
   "metadata": {},
   "outputs": [
    {
     "name": "stdout",
     "output_type": "stream",
     "text": [
      "Loading fastloglikelihood version of signal_base\n",
      "Do not have mpi4py package.\n"
     ]
    }
   ],
   "source": [
    "from sample_psrs import load_psrs, fake_model_2a, fake_model_2a_no_tm\n",
    "from pta_fast_model import FastLogLikelihood\n",
    "from enterprise.signals.signal_base import FastLogLikelihood as FastLikelihood\n",
    "\n",
    "import numpy as np\n",
    "\n",
    "from enterprise.signals import utils\n",
    "from enterprise_extensions.models import model_2a\n",
    "%load_ext autoreload\n",
    "%autoreload 2"
   ]
  },
  {
   "cell_type": "code",
   "execution_count": 2,
   "metadata": {},
   "outputs": [],
   "source": [
    "psrs = load_psrs(1e-15, 1)"
   ]
  },
  {
   "cell_type": "code",
   "execution_count": 3,
   "metadata": {},
   "outputs": [],
   "source": [
    "pta = fake_model_2a_no_tm([psrs[0]])"
   ]
  },
  {
   "cell_type": "code",
   "execution_count": 21,
   "metadata": {},
   "outputs": [],
   "source": [
    "like = FastLogLikelihood(pta, [psrs[0]])"
   ]
  },
  {
   "cell_type": "code",
   "execution_count": 20,
   "metadata": {},
   "outputs": [
    {
     "data": {
      "text/plain": [
       "66904.64689615586"
      ]
     },
     "execution_count": 20,
     "metadata": {},
     "output_type": "execute_result"
    }
   ],
   "source": [
    "like([2, -15, -15])"
   ]
  },
  {
   "cell_type": "code",
   "execution_count": 3,
   "metadata": {},
   "outputs": [
    {
     "name": "stdout",
     "output_type": "stream",
     "text": [
      "Loading fastloglikelihood version of signal_base\n"
     ]
    }
   ],
   "source": [
    "pta_fast = fake_model_2a([psrs[1]], slow=False)\n",
    "pta_slow = fake_model_2a([psrs[1]], slow=True)"
   ]
  },
  {
   "cell_type": "code",
   "execution_count": 16,
   "metadata": {},
   "outputs": [],
   "source": [
    "pta_fast = fake_model_2a([psrs[0]], slow=False)"
   ]
  },
  {
   "cell_type": "code",
   "execution_count": 4,
   "metadata": {},
   "outputs": [],
   "source": [
    "def diff(x):\n",
    "    return np.abs(pta_fast.get_lnlikelihood(x) - pta_slow.get_lnlikelihood(x)) / pta_slow.get_lnlikelihood(x)"
   ]
  },
  {
   "cell_type": "code",
   "execution_count": 8,
   "metadata": {},
   "outputs": [
    {
     "name": "stdout",
     "output_type": "stream",
     "text": [
      "[1.2831491288410164, -18.575036772639674, -17.385607592869725]\n",
      "4.33419907633631e-07\n",
      "[0.6379772474272941, -15.853215742962538, -17.473271294639357]\n",
      "1.256470370517258e-07\n",
      "[1.5579627050438993, -16.550628153477813, -17.394487502885983]\n",
      "1.5054021606197207e-07\n",
      "[2.7436707347811464, -16.573648569414, -18.299339491081376]\n",
      "1.7559562633891554e-07\n",
      "[4.376784801166585, -17.39862891729012, -17.925925696638423]\n",
      "1.0864530940373595e-07\n"
     ]
    }
   ],
   "source": [
    "for ii in range(1000):\n",
    "    x0 = np.random.uniform(0, 7)\n",
    "    x1 = np.random.uniform(-20, -11)\n",
    "    x2 = np.random.uniform(-20, -12)\n",
    "    res = diff([x0, x1, x2])\n",
    "    if res > 1e-7:\n",
    "        print([x0, x1, x2])\n",
    "        print(res)"
   ]
  },
  {
   "cell_type": "code",
   "execution_count": 13,
   "metadata": {},
   "outputs": [
    {
     "name": "stdout",
     "output_type": "stream",
     "text": [
      "2687.112237733323\n",
      "2687.1119001056322\n",
      "421.8386313216761\n",
      "421.83844848841545\n"
     ]
    }
   ],
   "source": [
    "x = [0.6379772474272941, -15.853215742962538, -17.473271294639357]\n",
    "print(pta_slow.get_lnlikelihood(x))\n",
    "print(pta_fast.get_lnlikelihood(x))\n",
    "\n",
    "x = [1.2831491288410164, -18.575036772639674, -17.385607592869725]\n",
    "print(pta_slow.get_lnlikelihood(x))\n",
    "print(pta_fast.get_lnlikelihood(x))"
   ]
  },
  {
   "cell_type": "code",
   "execution_count": 39,
   "metadata": {},
   "outputs": [
    {
     "name": "stdout",
     "output_type": "stream",
     "text": [
      "Loading fastloglikelihood version of signal_base\n",
      "66769.62610796285\n",
      "2098.953064078649\n",
      "5203.200269882498\n",
      "9593.744884552092\n",
      "66769.62610784461\n"
     ]
    }
   ],
   "source": [
    "x = [3.5435624061278403, -11.150845217554435, -13.704689462496248]\n",
    "print(pta_fast.get_lnlikelihood(x))\n",
    "print(pta_slow.get_lnlikelihood(x))"
   ]
  },
  {
   "cell_type": "code",
   "execution_count": 63,
   "metadata": {},
   "outputs": [
    {
     "name": "stdout",
     "output_type": "stream",
     "text": [
      "347069251.21145725\n"
     ]
    }
   ],
   "source": [
    "time_span = np.max(psrs[0].toas) - np.min(psrs[0].toas)\n",
    "print(time_span)"
   ]
  },
  {
   "cell_type": "code",
   "execution_count": 49,
   "metadata": {},
   "outputs": [
    {
     "name": "stdout",
     "output_type": "stream",
     "text": [
      "344300627725.8132\n",
      "186610279.4675873\n"
     ]
    },
    {
     "data": {
      "text/plain": [
       "51036.67147527121"
      ]
     },
     "execution_count": 49,
     "metadata": {},
     "output_type": "execute_result"
    }
   ],
   "source": [
    "pta_fast.get_lnlikelihood([0, 0, -20, -20, -20])"
   ]
  },
  {
   "cell_type": "code",
   "execution_count": 23,
   "metadata": {},
   "outputs": [
    {
     "name": "stdout",
     "output_type": "stream",
     "text": [
      "17896069273883.61\n"
     ]
    },
    {
     "data": {
      "text/plain": [
       "66904.64689615493"
      ]
     },
     "execution_count": 23,
     "metadata": {},
     "output_type": "execute_result"
    }
   ],
   "source": [
    "pta_slow.get_lnlikelihood([2, -15, -15])"
   ]
  },
  {
   "cell_type": "code",
   "execution_count": 26,
   "metadata": {},
   "outputs": [
    {
     "data": {
      "text/plain": [
       "(241,)"
      ]
     },
     "execution_count": 26,
     "metadata": {},
     "output_type": "execute_result"
    }
   ],
   "source": [
    "pta0._signalcollections[1].get_phi([0, -20, -20]).shape"
   ]
  },
  {
   "cell_type": "code",
   "execution_count": 14,
   "metadata": {},
   "outputs": [
    {
     "data": {
      "text/plain": [
       "142965.33466048178"
      ]
     },
     "execution_count": 14,
     "metadata": {},
     "output_type": "execute_result"
    }
   ],
   "source": [
    "np.linalg.cond(psrs[1].Mmat)\n",
    "np.linalg.cond(utils.normed_tm_basis(psrs[1].Mmat)[0])"
   ]
  },
  {
   "cell_type": "code",
   "execution_count": 64,
   "metadata": {},
   "outputs": [
    {
     "data": {
      "text/plain": [
       "(array([[ 0.01334164, -0.00607742, -0.01744352, ...,  0.        ,\n",
       "          0.        , -0.01498558],\n",
       "        [ 0.01334164, -0.00607742, -0.01744352, ...,  0.        ,\n",
       "          0.        , -0.01498558],\n",
       "        [ 0.01334164, -0.00607742, -0.01744352, ...,  0.        ,\n",
       "          0.        , -0.01498558],\n",
       "        ...,\n",
       "        [ 0.01334164, -0.00633331, -0.01738768, ...,  0.        ,\n",
       "          0.24175482,  0.        ],\n",
       "        [ 0.01334164, -0.00633331, -0.01738768, ...,  0.        ,\n",
       "          0.24519369,  0.        ],\n",
       "        [ 0.01334164, -0.00633331, -0.01738768, ...,  0.        ,\n",
       "          0.24346461,  0.        ]]),\n",
       " array(1))"
      ]
     },
     "execution_count": 64,
     "metadata": {},
     "output_type": "execute_result"
    }
   ],
   "source": [
    "utils.normed_tm_basis(psrs[0].Mmat)"
   ]
  },
  {
   "cell_type": "code",
   "execution_count": 82,
   "metadata": {},
   "outputs": [],
   "source": [
    "def normed_timing_matrix(Mmat):\n",
    "    \"\"\"\n",
    "    Normalize the timing design matrix\n",
    "    \"\"\"\n",
    "    norm = np.sqrt(np.sum(Mmat ** 2, axis=0))\n",
    "    nmat = Mmat / norm\n",
    "    nmat[:, norm == 0] = 0\n",
    "\n",
    "    return nmat"
   ]
  },
  {
   "cell_type": "code",
   "execution_count": 83,
   "metadata": {},
   "outputs": [
    {
     "data": {
      "text/plain": [
       "array([[ 0.01334164, -0.00607742, -0.01744352, ...,  0.        ,\n",
       "         0.        , -0.01498558],\n",
       "       [ 0.01334164, -0.00607742, -0.01744352, ...,  0.        ,\n",
       "         0.        , -0.01498558],\n",
       "       [ 0.01334164, -0.00607742, -0.01744352, ...,  0.        ,\n",
       "         0.        , -0.01498558],\n",
       "       ...,\n",
       "       [ 0.01334164, -0.00633331, -0.01738768, ...,  0.        ,\n",
       "         0.24175482,  0.        ],\n",
       "       [ 0.01334164, -0.00633331, -0.01738768, ...,  0.        ,\n",
       "         0.24519369,  0.        ],\n",
       "       [ 0.01334164, -0.00633331, -0.01738768, ...,  0.        ,\n",
       "         0.24346461,  0.        ]])"
      ]
     },
     "execution_count": 83,
     "metadata": {},
     "output_type": "execute_result"
    }
   ],
   "source": [
    "normed_timing_matrix(psrs[0].Mmat)"
   ]
  },
  {
   "cell_type": "code",
   "execution_count": 28,
   "metadata": {},
   "outputs": [
    {
     "data": {
      "text/plain": [
       "array([[1.61615689e-15, 0.00000000e+00, 0.00000000e+00, ...,\n",
       "        0.00000000e+00, 0.00000000e+00, 0.00000000e+00],\n",
       "       [0.00000000e+00, 1.61615689e-15, 0.00000000e+00, ...,\n",
       "        0.00000000e+00, 0.00000000e+00, 0.00000000e+00],\n",
       "       [0.00000000e+00, 0.00000000e+00, 5.54318744e-17, ...,\n",
       "        0.00000000e+00, 0.00000000e+00, 0.00000000e+00],\n",
       "       ...,\n",
       "       [0.00000000e+00, 0.00000000e+00, 0.00000000e+00, ...,\n",
       "        1.00000000e+40, 0.00000000e+00, 0.00000000e+00],\n",
       "       [0.00000000e+00, 0.00000000e+00, 0.00000000e+00, ...,\n",
       "        0.00000000e+00, 1.00000000e+40, 0.00000000e+00],\n",
       "       [0.00000000e+00, 0.00000000e+00, 0.00000000e+00, ...,\n",
       "        0.00000000e+00, 0.00000000e+00, 1.00000000e+40]])"
      ]
     },
     "execution_count": 28,
     "metadata": {},
     "output_type": "execute_result"
    }
   ],
   "source": [
    "pta0.get_phi([0, -20, -20])"
   ]
  },
  {
   "cell_type": "code",
   "execution_count": 226,
   "metadata": {},
   "outputs": [
    {
     "name": "stdout",
     "output_type": "stream",
     "text": [
      "[-1.92338291e+08 -1.92006190e+08 -3.56734832e+08  8.37862637e+07\n",
      " -3.87585587e+07  3.45236522e+08  5.71308814e+08  2.52851049e+08\n",
      "  5.71837765e+08 -7.82235369e+08 -6.03129254e+08 -6.80115418e+08\n",
      " -6.25073555e+08  2.84605646e+08 -3.60896263e+07  5.08763355e+08\n",
      "  4.61669541e+08  1.12117650e+08  5.53619861e+07 -2.52947282e+08\n",
      " -7.68350547e+05 -1.06875552e+06  6.84861398e+07 -6.21657436e+07\n",
      " -1.34877036e+07 -2.47768968e+07 -6.31760535e+07  1.19596863e+08\n",
      "  3.56080708e+08  2.00148536e+08  2.76986313e+08 -4.27755791e+08\n",
      " -3.76929911e+08 -2.96632475e+08 -2.12297550e+08  1.35335929e+08\n",
      "  9.98871823e+07  1.73572735e+08  1.83507026e+08 -1.36686007e+08\n",
      " -8.86374206e+07 -8.46351658e+07  4.35739567e+07  7.25782490e+07\n",
      " -3.35063655e+07 -8.26670733e+07 -1.31957029e+08 -3.40125942e+07\n",
      "  5.36453643e+07  1.00726093e+08  2.30957098e+08 -3.19347401e+07\n",
      " -1.96226619e+07 -2.23097627e+08 -1.24567390e+08 -5.71725483e+07\n",
      " -6.36532071e+07  1.32643614e+07  3.09559775e+07  3.37785429e+07]\n"
     ]
    },
    {
     "data": {
      "text/plain": [
       "66800.95160624692"
      ]
     },
     "execution_count": 226,
     "metadata": {},
     "output_type": "execute_result"
    }
   ],
   "source": [
    "loglikelihood([0, -20, -20])"
   ]
  },
  {
   "cell_type": "code",
   "execution_count": 220,
   "metadata": {},
   "outputs": [
    {
     "data": {
      "text/plain": [
       "array([-1.92338291e+08, -1.92006190e+08, -3.56734832e+08,  8.37862637e+07,\n",
       "       -3.87585587e+07,  3.45236522e+08,  5.71308814e+08,  2.52851049e+08,\n",
       "        5.71837765e+08, -7.82235369e+08, -6.03129254e+08, -6.80115418e+08,\n",
       "       -6.25073555e+08,  2.84605646e+08, -3.60896263e+07,  5.08763355e+08,\n",
       "        4.61669541e+08,  1.12117650e+08,  5.53619861e+07, -2.52947282e+08,\n",
       "       -7.68350557e+05, -1.06875552e+06,  6.84861398e+07, -6.21657436e+07,\n",
       "       -1.34877036e+07, -2.47768968e+07, -6.31760535e+07,  1.19596863e+08,\n",
       "        3.56080708e+08,  2.00148536e+08,  2.76986313e+08, -4.27755791e+08,\n",
       "       -3.76929911e+08, -2.96632475e+08, -2.12297550e+08,  1.35335929e+08,\n",
       "        9.98871823e+07,  1.73572735e+08,  1.83507026e+08, -1.36686007e+08,\n",
       "       -8.86374206e+07, -8.46351658e+07,  4.35739567e+07,  7.25782490e+07,\n",
       "       -3.35063655e+07, -8.26670733e+07, -1.31957029e+08, -3.40125942e+07,\n",
       "        5.36453643e+07,  1.00726093e+08,  2.30957098e+08, -3.19347401e+07,\n",
       "       -1.96226619e+07, -2.23097627e+08, -1.24567390e+08, -5.71725483e+07,\n",
       "       -6.36532071e+07,  1.32643614e+07,  3.09559775e+07,  3.37785429e+07])"
      ]
     },
     "execution_count": 220,
     "metadata": {},
     "output_type": "execute_result"
    }
   ],
   "source": [
    "pta0._signalcollections[0].get_FDr()"
   ]
  },
  {
   "cell_type": "code",
   "execution_count": 151,
   "metadata": {},
   "outputs": [],
   "source": [
    "N = pta.get_ndiag()\n",
    "N_inv = [np.diag(N**(-1)) for N in N][0]\n",
    "Mmat = [utils.normed_tm_basis(psrs[ii].Mmat)[0] for ii in range(len(psrs))][0]\n",
    "r = pta.get_residuals()[0]\n",
    "\n",
    "# T = F when timing model isn't included (so don't include it!)\n",
    "F = pta.get_basis(pta.params)[0]"
   ]
  },
  {
   "cell_type": "code",
   "execution_count": 158,
   "metadata": {},
   "outputs": [
    {
     "data": {
      "text/plain": [
       "True"
      ]
     },
     "execution_count": 158,
     "metadata": {},
     "output_type": "execute_result"
    }
   ],
   "source": [
    "# FNF good:\n",
    "np.allclose(pta0._signalcollections[0].get_FNF(), np.matmul(F.T, np.matmul(N_inv, F)))"
   ]
  },
  {
   "cell_type": "code",
   "execution_count": 163,
   "metadata": {},
   "outputs": [
    {
     "data": {
      "text/plain": [
       "True"
      ]
     },
     "execution_count": 163,
     "metadata": {},
     "output_type": "execute_result"
    }
   ],
   "source": [
    "np.allclose(pta0._signalcollections[0].get_MNF(), np.matmul(Mmat.T, np.matmul(N_inv, F)))"
   ]
  },
  {
   "cell_type": "code",
   "execution_count": 170,
   "metadata": {},
   "outputs": [],
   "source": [
    "A = np.matmul(Mmat.T, np.matmul(N_inv, F))\n",
    "S = np.matmul(Mmat.T, np.matmul(N_inv, Mmat))\n",
    "cf = np.linalg.cholesky(S)\n",
    "c = np.linalg.solve(cf, np.identity(S.shape[0]))\n",
    "S_inv = np.dot(c.T, c)"
   ]
  },
  {
   "cell_type": "code",
   "execution_count": 175,
   "metadata": {},
   "outputs": [
    {
     "data": {
      "text/plain": [
       "True"
      ]
     },
     "execution_count": 175,
     "metadata": {},
     "output_type": "execute_result"
    }
   ],
   "source": [
    "np.allclose(np.matmul(S_inv, A), pta0._signalcollections[0].get_MNMMNF())"
   ]
  },
  {
   "cell_type": "code",
   "execution_count": 200,
   "metadata": {},
   "outputs": [
    {
     "data": {
      "text/plain": [
       "array([[ 1.00548511e+16,  1.18221312e+15,  1.28795599e+15, ...,\n",
       "         1.40819227e+15,  1.71772130e+14, -1.64457469e+15],\n",
       "       [ 1.18221312e+15,  1.12466783e+16,  6.45946679e+15, ...,\n",
       "        -4.83478605e+14,  2.32039972e+14,  1.60750562e+15],\n",
       "       [ 1.28795599e+15,  6.45946679e+15,  8.90025537e+15, ...,\n",
       "        -1.14480056e+15, -2.15423342e+14,  2.76667160e+15],\n",
       "       ...,\n",
       "       [ 1.40819227e+15, -4.83478605e+14, -1.14480056e+15, ...,\n",
       "         1.08893387e+16,  3.28933675e+15,  4.93498094e+15],\n",
       "       [ 1.71772130e+14,  2.32039972e+14, -2.15423342e+14, ...,\n",
       "         3.28933675e+15,  6.99313956e+15,  5.28877459e+14],\n",
       "       [-1.64457469e+15,  1.60750562e+15,  2.76667160e+15, ...,\n",
       "         4.93498094e+15,  5.28877459e+14,  1.43083899e+16]])"
      ]
     },
     "execution_count": 200,
     "metadata": {},
     "output_type": "execute_result"
    }
   ],
   "source": [
    "pta0._signalcollections[0].get_FNF()"
   ]
  },
  {
   "cell_type": "code",
   "execution_count": 209,
   "metadata": {},
   "outputs": [],
   "source": [
    "FNF = pta0._signalcollections[0].get_FNF()\n",
    "MNF = pta0._signalcollections[0].get_MNF()\n",
    "MNMMNF = pta0._signalcollections[0].get_MNMMNF()"
   ]
  },
  {
   "cell_type": "code",
   "execution_count": 208,
   "metadata": {},
   "outputs": [
    {
     "data": {
      "text/plain": [
       "True"
      ]
     },
     "execution_count": 208,
     "metadata": {},
     "output_type": "execute_result"
    }
   ],
   "source": [
    "np.allclose(pta0._signalcollections[0].get_basis_F(), F)"
   ]
  },
  {
   "cell_type": "code",
   "execution_count": 211,
   "metadata": {},
   "outputs": [
    {
     "data": {
      "text/plain": [
       "array([[ 9.77547320e+15,  9.16991876e+14,  9.01477298e+14, ...,\n",
       "         1.41468220e+15,  1.11052380e+14, -1.67129894e+15],\n",
       "       [ 9.16991876e+14,  1.05384120e+16,  6.22779603e+15, ...,\n",
       "        -5.17688776e+14,  4.56553143e+13,  1.68311534e+15],\n",
       "       [ 9.01477298e+14,  6.22779603e+15,  7.66726841e+15, ...,\n",
       "        -1.21523150e+15, -1.01210748e+14,  2.73527040e+15],\n",
       "       ...,\n",
       "       [ 1.41468220e+15, -5.17688776e+14, -1.21523150e+15, ...,\n",
       "         7.73841112e+15,  1.71272298e+15,  3.95409932e+15],\n",
       "       [ 1.11052380e+14,  4.56553143e+13, -1.01210748e+14, ...,\n",
       "         1.71272298e+15,  4.31932439e+15,  4.63459729e+14],\n",
       "       [-1.67129894e+15,  1.68311534e+15,  2.73527040e+15, ...,\n",
       "         3.95409932e+15,  4.63459729e+14,  1.08421130e+16]])"
      ]
     },
     "execution_count": 211,
     "metadata": {},
     "output_type": "execute_result"
    }
   ],
   "source": [
    "np.matmul(MNF.T, MNMMNF)"
   ]
  },
  {
   "cell_type": "code",
   "execution_count": 214,
   "metadata": {},
   "outputs": [
    {
     "data": {
      "text/plain": [
       "array([[ 1.98303243e+16,  2.09920500e+15,  2.18943329e+15, ...,\n",
       "         2.82287447e+15,  2.82824510e+14, -3.31587363e+15],\n",
       "       [ 2.09920500e+15,  2.17850902e+16,  1.26872628e+16, ...,\n",
       "        -1.00116738e+15,  2.77695286e+14,  3.29062096e+15],\n",
       "       [ 2.18943329e+15,  1.26872628e+16,  1.65675238e+16, ...,\n",
       "        -2.36003206e+15, -3.16634089e+14,  5.50194200e+15],\n",
       "       ...,\n",
       "       [ 2.82287447e+15, -1.00116738e+15, -2.36003206e+15, ...,\n",
       "         1.86277498e+16,  5.00205973e+15,  8.88908026e+15],\n",
       "       [ 2.82824510e+14,  2.77695286e+14, -3.16634089e+14, ...,\n",
       "         5.00205973e+15,  1.13124639e+16,  9.92337187e+14],\n",
       "       [-3.31587363e+15,  3.29062096e+15,  5.50194200e+15, ...,\n",
       "         8.88908026e+15,  9.92337187e+14,  2.51505029e+16]])"
      ]
     },
     "execution_count": 214,
     "metadata": {},
     "output_type": "execute_result"
    }
   ],
   "source": [
    "pta0._signalcollections[0].get_FDF()"
   ]
  },
  {
   "cell_type": "code",
   "execution_count": 237,
   "metadata": {},
   "outputs": [
    {
     "name": "stdout",
     "output_type": "stream",
     "text": [
      "Loading fastloglikelihood version of signal_base\n"
     ]
    }
   ],
   "source": [
    "like = FastLikelihood(pta0)"
   ]
  },
  {
   "cell_type": "code",
   "execution_count": 238,
   "metadata": {},
   "outputs": [
    {
     "data": {
      "text/plain": [
       "66800.95160614939"
      ]
     },
     "execution_count": 238,
     "metadata": {},
     "output_type": "execute_result"
    }
   ],
   "source": [
    "like.lnlikelihood"
   ]
  },
  {
   "cell_type": "code",
   "execution_count": null,
   "metadata": {},
   "outputs": [],
   "source": []
  }
 ],
 "metadata": {
  "interpreter": {
   "hash": "95afb15de8b1644dbfc3b242c014e70d87dbd3490e8b82ccb25645014203d22a"
  },
  "kernelspec": {
   "display_name": "Python 3.6.13 64-bit ('enterprise_dev': conda)",
   "name": "python3"
  },
  "language_info": {
   "codemirror_mode": {
    "name": "ipython",
    "version": 3
   },
   "file_extension": ".py",
   "mimetype": "text/x-python",
   "name": "python",
   "nbconvert_exporter": "python",
   "pygments_lexer": "ipython3",
   "version": "3.6.13"
  },
  "metadata": {
   "interpreter": {
    "hash": "913a1c0a8bc180c68be9ca280758699feb83bb17ca8df97de1bd02c95d5179f1"
   }
  },
  "orig_nbformat": 2
 },
 "nbformat": 4,
 "nbformat_minor": 2
}