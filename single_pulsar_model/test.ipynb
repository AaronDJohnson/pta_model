{
 "cells": [
  {
   "cell_type": "code",
   "execution_count": 188,
   "source": [
    "from sample_psrs import load_psrs, fake_model_2a\n",
    "from fast_model import FastLogLikelihood, power_law, fourier_matrix\n",
    "\n",
    "import numpy as np\n",
    "import scipy.linalg as sl\n",
    "\n",
    "%load_ext autoreload\n",
    "%autoreload 2"
   ],
   "outputs": [
    {
     "output_type": "stream",
     "name": "stdout",
     "text": [
      "The autoreload extension is already loaded. To reload it, use:\n",
      "  %reload_ext autoreload\n"
     ]
    }
   ],
   "metadata": {}
  },
  {
   "cell_type": "code",
   "execution_count": 2,
   "source": [
    "psrs = load_psrs(1e-15, 1000)"
   ],
   "outputs": [
    {
     "output_type": "stream",
     "name": "stdout",
     "text": [
      "[observatory.C:267] Warning: Assuming site '3' means 'ao'\n"
     ]
    }
   ],
   "metadata": {}
  },
  {
   "cell_type": "code",
   "execution_count": 3,
   "source": [
    "pta = fake_model_2a([psrs[0]])"
   ],
   "outputs": [],
   "metadata": {}
  },
  {
   "cell_type": "code",
   "execution_count": 131,
   "source": [
    "gamma = np.array([2.0, 3.0])\n",
    "log10_A = np.array([-15.0, -16.0])\n",
    "\n",
    "params = np.array([gamma, log10_A])"
   ],
   "outputs": [],
   "metadata": {}
  },
  {
   "cell_type": "code",
   "execution_count": 189,
   "source": [
    "F, freqs = fourier_matrix(psrs[0].toas)"
   ],
   "outputs": [],
   "metadata": {}
  },
  {
   "cell_type": "code",
   "execution_count": 191,
   "source": [
    "power_law(params, freqs)"
   ],
   "outputs": [
    {
     "output_type": "execute_result",
     "data": {
      "text/plain": [
       "array([[9.24781460e-17, 9.24781460e-17, 2.31195365e-17, 2.31195365e-17,\n",
       "        1.02753496e-17, 1.02753496e-17, 5.77988413e-18, 5.77988413e-18,\n",
       "        3.69912584e-18, 3.69912584e-18, 2.56883739e-18, 2.56883739e-18,\n",
       "        1.88730910e-18, 1.88730910e-18, 1.44497103e-18, 1.44497103e-18,\n",
       "        1.14170551e-18, 1.14170551e-18, 9.24781460e-19, 9.24781460e-19,\n",
       "        7.64282198e-19, 7.64282198e-19, 6.42209347e-19, 6.42209347e-19,\n",
       "        5.47207965e-19, 5.47207965e-19, 4.71827276e-19, 4.71827276e-19,\n",
       "        4.11013982e-19, 4.11013982e-19, 3.61242758e-19, 3.61242758e-19,\n",
       "        3.19993585e-19, 3.19993585e-19, 2.85426377e-19, 2.85426377e-19,\n",
       "        2.56172150e-19, 2.56172150e-19, 2.31195365e-19, 2.31195365e-19,\n",
       "        2.09701011e-19, 2.09701011e-19, 1.91070550e-19, 1.91070550e-19,\n",
       "        1.74816911e-19, 1.74816911e-19, 1.60552337e-19, 1.60552337e-19,\n",
       "        1.47965034e-19, 1.47965034e-19, 1.36801991e-19, 1.36801991e-19,\n",
       "        1.26856167e-19, 1.26856167e-19, 1.17956819e-19, 1.17956819e-19,\n",
       "        1.09962124e-19, 1.09962124e-19, 1.02753496e-19, 1.02753496e-19],\n",
       "       [1.01707103e-17, 1.01707103e-17, 1.27133879e-18, 1.27133879e-18,\n",
       "        3.76692976e-19, 3.76692976e-19, 1.58917349e-19, 1.58917349e-19,\n",
       "        8.13656828e-20, 8.13656828e-20, 4.70866220e-20, 4.70866220e-20,\n",
       "        2.96522168e-20, 2.96522168e-20, 1.98646686e-20, 1.98646686e-20,\n",
       "        1.39515917e-20, 1.39515917e-20, 1.01707103e-20, 1.01707103e-20,\n",
       "        7.64140522e-21, 7.64140522e-21, 5.88582775e-21, 5.88582775e-21,\n",
       "        4.62936293e-21, 4.62936293e-21, 3.70652709e-21, 3.70652709e-21,\n",
       "        3.01354381e-21, 3.01354381e-21, 2.48308358e-21, 2.48308358e-21,\n",
       "        2.07016290e-21, 2.07016290e-21, 1.74394896e-21, 1.74394896e-21,\n",
       "        1.48282699e-21, 1.48282699e-21, 1.27133879e-21, 1.27133879e-21,\n",
       "        1.09823025e-21, 1.09823025e-21, 9.55175653e-22, 9.55175653e-22,\n",
       "        8.35925894e-22, 8.35925894e-22, 7.35728468e-22, 7.35728468e-22,\n",
       "        6.50925462e-22, 6.50925462e-22, 5.78670366e-22, 5.78670366e-22,\n",
       "        5.16725618e-22, 5.16725618e-22, 4.63315887e-22, 4.63315887e-22,\n",
       "        4.17020392e-22, 4.17020392e-22, 3.76692976e-22, 3.76692976e-22]])"
      ]
     },
     "metadata": {},
     "execution_count": 191
    }
   ],
   "metadata": {}
  },
  {
   "cell_type": "code",
   "execution_count": 157,
   "source": [
    "gamma_rn = np.array([2.0, 3.0])\n",
    "log10_A_rn = np.array([-15.0, -16.0])\n",
    "\n",
    "gamma_gw = np.repeat(4.33, 2)\n",
    "log10_A_gw = np.array([-15., -16.])\n",
    "\n",
    "params_rn = np.array([gamma_rn, log10_A_rn])\n",
    "params_gw = np.array([gamma_gw, log10_A_gw])"
   ],
   "outputs": [],
   "metadata": {}
  },
  {
   "cell_type": "code",
   "execution_count": 153,
   "source": [
    "like = FastLogLikelihood(psrs[0])"
   ],
   "outputs": [],
   "metadata": {}
  },
  {
   "cell_type": "code",
   "execution_count": 165,
   "source": [
    "like([gamma_rn[0], log10_A_rn[0], log10_A_gw[0]])"
   ],
   "outputs": [
    {
     "output_type": "stream",
     "name": "stdout",
     "text": [
      "[2.46772337e-14 2.46772337e-14 1.22697748e-15 1.22697748e-15\n",
      " 2.12012488e-16 2.12012488e-16 6.10065846e-17 6.10065846e-17\n",
      " 2.32143408e-17 2.32143408e-17 1.05414793e-17 1.05414793e-17\n",
      " 5.40781668e-18 5.40781668e-18 3.03331024e-18 3.03331024e-18\n",
      " 1.82148840e-18 1.82148840e-18 1.15424094e-18 1.15424094e-18\n",
      " 7.63952133e-19 7.63952133e-19 5.24133211e-19 5.24133211e-19\n",
      " 3.70613947e-19 3.70613947e-19 2.68882217e-19 2.68882217e-19\n",
      " 1.99444159e-19 1.99444159e-19 1.50819310e-19 1.50819310e-19\n",
      " 1.15998573e-19 1.15998573e-19 9.05662796e-20 9.05662796e-20\n",
      " 7.16627356e-20 7.16627356e-20 5.73900487e-20 5.73900487e-20\n",
      " 4.64608262e-20 4.64608262e-20 3.79844871e-20 3.79844871e-20\n",
      " 3.13339355e-20 3.13339355e-20 2.60604432e-20 2.60604432e-20\n",
      " 2.18381697e-20 2.18381697e-20 1.84273073e-20 1.84273073e-20\n",
      " 1.56491724e-20 1.56491724e-20 1.33691008e-20 1.33691008e-20\n",
      " 1.14845278e-20 1.14845278e-20 9.91656908e-21 9.91656908e-21]\n"
     ]
    },
    {
     "output_type": "execute_result",
     "data": {
      "text/plain": [
       "66904.64689610014"
      ]
     },
     "metadata": {},
     "execution_count": 165
    }
   ],
   "metadata": {}
  },
  {
   "cell_type": "code",
   "execution_count": 202,
   "source": [
    "gamma_rn = np.array([2.0, 3.0])\n",
    "log10_A_rn = np.array([-15.0, -16.0])\n",
    "\n",
    "gamma_gw = np.repeat(4.33, 2)\n",
    "log10_A_gw = np.array([-15., -16.])\n",
    "\n",
    "params_rn = np.array([gamma_rn, log10_A_rn])\n",
    "params_gw = np.array([gamma_gw, log10_A_gw])"
   ],
   "outputs": [],
   "metadata": {}
  },
  {
   "cell_type": "code",
   "execution_count": 311,
   "source": [
    "def generate_params(num=10):\n",
    "    gamma_rn = np.random.uniform(0, 7, num)\n",
    "    log10_A_rn = np.random.uniform(-20, -11, num)\n",
    "\n",
    "    gamma_gw = np.repeat(4.33, num)\n",
    "    log10_A_gw = np.random.uniform(-20, -12, num)\n",
    "\n",
    "    params_rn = np.array([gamma_rn, log10_A_rn])\n",
    "    params_gw = np.array([gamma_gw, log10_A_gw])\n",
    "    return params_gw, params_rn"
   ],
   "outputs": [],
   "metadata": {}
  },
  {
   "cell_type": "code",
   "execution_count": 321,
   "source": [
    "like = FastLogLikelihood(psrs[0])"
   ],
   "outputs": [],
   "metadata": {}
  },
  {
   "cell_type": "code",
   "execution_count": 309,
   "source": [
    "like(params_gw, params_rn)"
   ],
   "outputs": [
    {
     "output_type": "execute_result",
     "data": {
      "text/plain": [
       "array([66904.6468961 , 66810.12482231])"
      ]
     },
     "metadata": {},
     "execution_count": 309
    }
   ],
   "metadata": {}
  },
  {
   "cell_type": "code",
   "execution_count": 339,
   "source": [
    "params_gw, params_rn = generate_params(1000)\n",
    "print(params_gw.shape)"
   ],
   "outputs": [
    {
     "output_type": "stream",
     "name": "stdout",
     "text": [
      "(2, 1000)\n"
     ]
    }
   ],
   "metadata": {}
  },
  {
   "cell_type": "code",
   "execution_count": 341,
   "source": [
    "%%timeit\n",
    "like(params_gw, params_rn)"
   ],
   "outputs": [
    {
     "output_type": "stream",
     "name": "stdout",
     "text": [
      "123 ms ± 1.73 ms per loop (mean ± std. dev. of 7 runs, 10 loops each)\n"
     ]
    }
   ],
   "metadata": {}
  },
  {
   "cell_type": "code",
   "execution_count": 342,
   "source": [
    "123 / 1000"
   ],
   "outputs": [
    {
     "output_type": "execute_result",
     "data": {
      "text/plain": [
       "0.123"
      ]
     },
     "metadata": {},
     "execution_count": 342
    }
   ],
   "metadata": {}
  },
  {
   "cell_type": "code",
   "execution_count": 335,
   "source": [
    "468 - 337"
   ],
   "outputs": [
    {
     "output_type": "execute_result",
     "data": {
      "text/plain": [
       "131"
      ]
     },
     "metadata": {},
     "execution_count": 335
    }
   ],
   "metadata": {}
  },
  {
   "cell_type": "code",
   "execution_count": 338,
   "source": [
    "12.2 / 100"
   ],
   "outputs": [
    {
     "output_type": "execute_result",
     "data": {
      "text/plain": [
       "0.122"
      ]
     },
     "metadata": {},
     "execution_count": 338
    }
   ],
   "metadata": {}
  },
  {
   "cell_type": "code",
   "execution_count": null,
   "source": [],
   "outputs": [],
   "metadata": {}
  }
 ],
 "metadata": {
  "interpreter": {
   "hash": "913a1c0a8bc180c68be9ca280758699feb83bb17ca8df97de1bd02c95d5179f1"
  },
  "kernelspec": {
   "name": "python3",
   "display_name": "Python 3.9.5 64-bit ('enterprise': conda)"
  },
  "language_info": {
   "codemirror_mode": {
    "name": "ipython",
    "version": 3
   },
   "file_extension": ".py",
   "mimetype": "text/x-python",
   "name": "python",
   "nbconvert_exporter": "python",
   "pygments_lexer": "ipython3",
   "version": "3.9.5"
  },
  "metadata": {
   "interpreter": {
    "hash": "913a1c0a8bc180c68be9ca280758699feb83bb17ca8df97de1bd02c95d5179f1"
   }
  },
  "orig_nbformat": 2
 },
 "nbformat": 4,
 "nbformat_minor": 2
}