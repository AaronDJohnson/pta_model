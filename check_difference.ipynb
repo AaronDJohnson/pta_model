{
 "metadata": {
  "language_info": {
   "codemirror_mode": {
    "name": "ipython",
    "version": 3
   },
   "file_extension": ".py",
   "mimetype": "text/x-python",
   "name": "python",
   "nbconvert_exporter": "python",
   "pygments_lexer": "ipython3",
   "version": "3.7.10"
  },
  "orig_nbformat": 4,
  "kernelspec": {
   "name": "python3",
   "display_name": "Python 3.7.10 64-bit ('enterprise': conda)"
  },
  "interpreter": {
   "hash": "913a1c0a8bc180c68be9ca280758699feb83bb17ca8df97de1bd02c95d5179f1"
  }
 },
 "nbformat": 4,
 "nbformat_minor": 2,
 "cells": [
  {
   "cell_type": "code",
   "execution_count": 8,
   "source": [
    "from enterprise_extensions.models import model_general, model_2a\n",
    "from enterprise.pulsar import Pulsar"
   ],
   "outputs": [],
   "metadata": {}
  },
  {
   "cell_type": "code",
   "execution_count": 4,
   "source": [
    "%matplotlib inline\n",
    "%config InlineBackend.figure_format = 'retina'\n",
    "%load_ext autoreload\n",
    "%autoreload 2\n",
    "\n",
    "import os, glob, json, pickle\n",
    "import matplotlib.pyplot as plt\n",
    "import numpy as np\n",
    "import scipy.linalg as sl\n",
    "\n",
    "import enterprise\n",
    "from enterprise.pulsar import Pulsar\n",
    "import enterprise.signals.parameter as parameter\n",
    "from enterprise.signals import utils\n",
    "from enterprise.signals import signal_base\n",
    "from enterprise.signals import selections\n",
    "from enterprise.signals.selections import Selection\n",
    "from enterprise.signals import white_signals\n",
    "from enterprise.signals import gp_signals\n",
    "from enterprise.signals import deterministic_signals\n",
    "import enterprise.constants as const\n",
    "\n",
    "import corner\n",
    "from PTMCMCSampler.PTMCMCSampler import PTSampler as ptmcmc\n"
   ],
   "outputs": [
    {
     "output_type": "stream",
     "name": "stdout",
     "text": [
      "The autoreload extension is already loaded. To reload it, use:\n",
      "  %reload_ext autoreload\n"
     ]
    }
   ],
   "metadata": {}
  },
  {
   "cell_type": "code",
   "execution_count": 5,
   "source": [
    "psrlist = None # define a list of pulsar name strings that can be used to filter.\n",
    "# set the data directory\n",
    "datadir = './data'\n",
    "if not os.path.isdir(datadir):\n",
    "    datadir = '../../data'\n",
    "print(datadir)"
   ],
   "outputs": [
    {
     "output_type": "stream",
     "name": "stdout",
     "text": [
      "./data\n"
     ]
    }
   ],
   "metadata": {}
  },
  {
   "cell_type": "code",
   "execution_count": 6,
   "source": [
    "# get only J1909\n",
    "psrname = 'J1909'\n",
    "parfiles = sorted(glob.glob(datadir + '/par/' + psrname + '*par'))\n",
    "timfiles = sorted(glob.glob(datadir + '/tim/' + psrname + '*tim'))\n",
    "\n",
    "print(parfiles)\n",
    "print(timfiles)"
   ],
   "outputs": [
    {
     "output_type": "stream",
     "name": "stdout",
     "text": [
      "['./data/par/J1909-3744_NANOGrav_12yv3.gls.par']\n",
      "['./data/tim/J1909-3744_NANOGrav_12yv3.tim']\n"
     ]
    }
   ],
   "metadata": {}
  },
  {
   "cell_type": "code",
   "execution_count": 7,
   "source": [
    "psrs = []\n",
    "ephemeris = 'DE438'\n",
    "for p, t in zip(parfiles, timfiles):\n",
    "    psr = Pulsar(p, t, ephem=ephemeris)\n",
    "    psrs.append(psr)"
   ],
   "outputs": [],
   "metadata": {}
  },
  {
   "cell_type": "code",
   "execution_count": 9,
   "source": [
    "## Get parameter noise dictionary\n",
    "noise_ng12 = datadir + '/channelized_12p5yr_v3_full_noisedict.json'\n",
    "\n",
    "params = {}\n",
    "with open(noise_ng12, 'r') as fp:\n",
    "    params.update(json.load(fp))"
   ],
   "outputs": [],
   "metadata": {}
  },
  {
   "cell_type": "code",
   "execution_count": 33,
   "source": [
    "pta = model_2a([psrs[0]], noisedict=params, gamma_common=13/3, n_gwbfreqs=5)"
   ],
   "outputs": [],
   "metadata": {}
  },
  {
   "cell_type": "code",
   "execution_count": 34,
   "source": [
    "pta.get_chi([0, -20, -18])"
   ],
   "outputs": [
    {
     "output_type": "execute_result",
     "data": {
      "text/plain": [
       "[KernelMatrix([2.58419900e-15, 2.58419900e-15, 8.81203405e-17,\n",
       "               8.81203405e-17, 1.24177119e-17, 1.24177119e-17,\n",
       "               3.11906735e-18, 3.11906735e-18, 1.07394272e-18,\n",
       "               1.07394272e-18, 2.80738403e-19, 2.80738403e-19,\n",
       "               1.29887655e-19, 1.29887655e-19, 6.66205389e-20,\n",
       "               6.66205389e-20, 3.69696662e-20, 3.69696662e-20,\n",
       "               2.18302182e-20, 2.18302182e-20, 1.35548480e-20,\n",
       "               1.35548480e-20, 8.77307508e-21, 8.77307508e-21,\n",
       "               5.87951246e-21, 5.87951246e-21, 4.05898922e-21,\n",
       "               4.05898922e-21, 2.87476124e-21, 2.87476124e-21,\n",
       "               2.08189184e-21, 2.08189184e-21, 1.53749414e-21,\n",
       "               1.53749414e-21, 1.15530207e-21, 1.15530207e-21,\n",
       "               8.81637535e-22, 8.81637535e-22, 6.82194318e-22,\n",
       "               6.82194318e-22, 5.34517099e-22, 5.34517099e-22,\n",
       "               4.23588999e-22, 4.23588999e-22, 3.39171144e-22,\n",
       "               3.39171144e-22, 2.74158596e-22, 2.74158596e-22,\n",
       "               2.23541434e-22, 2.23541434e-22, 1.83734764e-22,\n",
       "               1.83734764e-22, 1.52138544e-22, 1.52138544e-22,\n",
       "               1.26843413e-22, 1.26843413e-22, 1.06430986e-22,\n",
       "               1.06430986e-22, 8.98362889e-23, 8.98362889e-23])]"
      ]
     },
     "metadata": {},
     "execution_count": 34
    }
   ],
   "metadata": {}
  },
  {
   "cell_type": "code",
   "execution_count": 38,
   "source": [
    "pta2 = model_general([psrs[0]], tm_svd=True, tm_linear=True, noisedict=params,\n",
    "                     common_components=30, gamma_common=13/3, red_components=5\n",
    "                    )"
   ],
   "outputs": [],
   "metadata": {}
  },
  {
   "cell_type": "code",
   "execution_count": 37,
   "source": [
    "%%timeit\n",
    "pta.get_lnlikelihood([0, -20, -18])"
   ],
   "outputs": [
    {
     "output_type": "stream",
     "name": "stdout",
     "text": [
      "198 µs ± 884 ns per loop (mean ± std. dev. of 7 runs, 10000 loops each)\n"
     ]
    }
   ],
   "metadata": {}
  },
  {
   "cell_type": "code",
   "execution_count": 41,
   "source": [
    "%%timeit\n",
    "pta2.get_lnlikelihood([0, -20, -18])"
   ],
   "outputs": [
    {
     "output_type": "stream",
     "name": "stdout",
     "text": [
      "200 µs ± 703 ns per loop (mean ± std. dev. of 7 runs, 1000 loops each)\n"
     ]
    }
   ],
   "metadata": {}
  },
  {
   "cell_type": "code",
   "execution_count": 42,
   "source": [
    "print(pta.get_lnlikelihood([0, -20, -18]))\n",
    "print(pta2.get_lnlikelihood([0, -20, -18]))"
   ],
   "outputs": [
    {
     "output_type": "stream",
     "name": "stdout",
     "text": [
      "303871.070452288\n",
      "303871.07046380057\n"
     ]
    }
   ],
   "metadata": {}
  },
  {
   "cell_type": "code",
   "execution_count": null,
   "source": [],
   "outputs": [],
   "metadata": {}
  }
 ]
}